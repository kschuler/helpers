{
 "cells": [
  {
   "cell_type": "markdown",
   "metadata": {},
   "source": [
    "# Extract mturk data from sqlite\n",
    "\n",
    "This notebook describes how I extract subject input from the participants.db that psiturk generates."
   ]
  },
  {
   "cell_type": "markdown",
   "metadata": {},
   "source": [
    "## Import required packages and setup\n",
    "Before we begin our analysis, we import some required packages"
   ]
  },
  {
   "cell_type": "code",
   "execution_count": 45,
   "metadata": {
    "collapsed": false
   },
   "outputs": [],
   "source": [
    "# import packages (required for analysis)\n",
    "import pandas as pd\n",
    "from sqlalchemy import create_engine, MetaData, Table\n",
    "import json\n"
   ]
  },
  {
   "cell_type": "markdown",
   "metadata": {},
   "source": [
    "# Set Parameters\n",
    "\n",
    "## Setup experiment paths\n",
    "Next, we set some useful parameters to tell pandas where our data and required files are located."
   ]
  },
  {
   "cell_type": "code",
   "execution_count": 46,
   "metadata": {
    "collapsed": false
   },
   "outputs": [],
   "source": [
    "# params (change these for every experiment)\n",
    "DATA_PATH = '/Users/kathrynschuler/Documents/current/research/raw-data/'\n",
    "EXPID = '0165'\n",
    "EXPTITLE = 'empiricalYang-36Noun-HFrule-easy4-mturk'\n"
   ]
  },
  {
   "cell_type": "markdown",
   "metadata": {},
   "source": [
    "## Database parameters\n",
    "Setup the parameters of the participants.db "
   ]
  },
  {
   "cell_type": "code",
   "execution_count": 47,
   "metadata": {
    "collapsed": false
   },
   "outputs": [
    {
     "name": "stdout",
     "output_type": "stream",
     "text": [
      "sqlite:////Users/kathrynschuler/Documents/current/research/raw-data/0165-empiricalYang-36Noun-HFrule-easy4-mturk-data/participants.db\n"
     ]
    }
   ],
   "source": [
    "## The db_url is the location of the participants.db file on the local computer\n",
    "## with 'sqlite:///' appended to the frong\n",
    "## you get the particiant.db from the server location of the experiment by\n",
    "## using the command :\n",
    "## scp -r -P 8008 serverlogin@IP.ADD.RES.S:path/to/exp/file.db $HOME/Path/to/raw-data\n",
    "db_url = \"sqlite:///\"+DATA_PATH+EXPID+\"-\"+EXPTITLE+\"-data/participants.db\"\n",
    "\n",
    "## the table name gets set in config.txt of experiment file\n",
    "table_name = '0165'\n",
    "\n",
    "## data_column_name set automatically by psiturk\n",
    "data_column_name = 'datastring'\n",
    "\n",
    "# check the url to make sure it is correct\n",
    "print db_url"
   ]
  },
  {
   "cell_type": "markdown",
   "metadata": {},
   "source": [
    "## Extract data into dataframe\n"
   ]
  },
  {
   "cell_type": "code",
   "execution_count": 48,
   "metadata": {
    "collapsed": false
   },
   "outputs": [],
   "source": [
    "# boilerplace sqlalchemy setup (don't change any of this)\n",
    "engine = create_engine(db_url)\n",
    "metadata = MetaData()\n",
    "metadata.bind = engine\n",
    "table = Table(table_name, metadata, autoload=True)"
   ]
  },
  {
   "cell_type": "code",
   "execution_count": 49,
   "metadata": {
    "collapsed": false
   },
   "outputs": [],
   "source": [
    "# make a query and loop through\n",
    "s = table.select()\n",
    "rows = s.execute()\n",
    "# setup an empty list to hold data\n",
    "\n",
    "data = []\n",
    "#status codes of subjects who completed experiment\n",
    "statuses = [3, 4, 5, 7]\n",
    "# if you have workers you wish to exclude, add them here\n",
    "exclude = ['A35YZM09QR7IZG:31T4R4OBOSH1FCCIYPT45L0HETLC7K']\n",
    "for row in rows:\n",
    "    # only use subjects who completed experiment and aren't excluded\n",
    "    if row['status'] in statuses and row['uniqueid'] not in exclude:\n",
    "        data.append(row[data_column_name])"
   ]
  },
  {
   "cell_type": "code",
   "execution_count": 30,
   "metadata": {
    "collapsed": false
   },
   "outputs": [],
   "source": [
    "# Now we have all participant datastrings in a list.\n",
    "# Let's make it a bit easier to work with:\n",
    "\n",
    "# parse each participant's datastring as json object\n",
    "# and take the 'data' sub-object\n",
    "data = [json.loads(part)['data'] for part in data]\n",
    "\n",
    "# insert uniqueid field into trialdata in case it wasn't added\n",
    "# in experiment:\n",
    "for part in data:\n",
    "    for record in part:\n",
    "        record['trialdata']['uniqueid'] = record['uniqueid']\n",
    "\n",
    "# flatten nested list so we just have a list of the trialdata recorded\n",
    "# each time psiturk.recordTrialData(trialdata) was called.\n",
    "data = [record['trialdata'] for part in data for record in part]\n",
    "\n",
    "# Put all subjects' trial data into a dataframe object from the\n",
    "# 'pandas' python library: one option among many for analysis\n",
    "data_frame = pd.DataFrame(data)\n",
    "\n"
   ]
  },
  {
   "cell_type": "markdown",
   "metadata": {},
   "source": [
    "## Inspect the data frame"
   ]
  },
  {
   "cell_type": "code",
   "execution_count": 35,
   "metadata": {
    "collapsed": false
   },
   "outputs": [
    {
     "name": "stdout",
     "output_type": "stream",
     "text": [
      "               action case condition correct counterbalance  det detnum error  \\\n",
      "0               Begin  NaN       NaN     NaN            NaN  NaN    NaN   NaN   \n",
      "1            NextPage  NaN       NaN     NaN            NaN  NaN    NaN   NaN   \n",
      "2            NextPage  NaN       NaN     NaN            NaN  NaN    NaN   NaN   \n",
      "3            NextPage  NaN       NaN     NaN            NaN  NaN    NaN   NaN   \n",
      "4  FinishInstructions  NaN       NaN     NaN            NaN  NaN    NaN   NaN   \n",
      "\n",
      "   indexOf   n    ...                                             templates  \\\n",
      "0      NaN NaN    ...     [instructions/instruct-1.html, instructions/in...   \n",
      "1      0.0 NaN    ...                                                   NaN   \n",
      "2      1.0 NaN    ...                                                   NaN   \n",
      "3      2.0 NaN    ...                                                   NaN   \n",
      "4      3.0 NaN    ...                                                   NaN   \n",
      "\n",
      "  test_number type type-full                                       uniqueid  \\\n",
      "0         NaN  NaN       NaN  A2541C8MY0BYV3:39ZSFO5CA8XQL1UKLP312HRZXIRUJX   \n",
      "1         NaN  NaN       NaN  A2541C8MY0BYV3:39ZSFO5CA8XQL1UKLP312HRZXIRUJX   \n",
      "2         NaN  NaN       NaN  A2541C8MY0BYV3:39ZSFO5CA8XQL1UKLP312HRZXIRUJX   \n",
      "3         NaN  NaN       NaN  A2541C8MY0BYV3:39ZSFO5CA8XQL1UKLP312HRZXIRUJX   \n",
      "4         NaN  NaN       NaN  A2541C8MY0BYV3:39ZSFO5CA8XQL1UKLP312HRZXIRUJX   \n",
      "\n",
      "  user_input verb  viewTime whichCond whichLang  \n",
      "0        NaN  NaN       NaN       NaN       NaN  \n",
      "1        NaN  NaN    7650.0       NaN       NaN  \n",
      "2        NaN  NaN  109297.0       NaN       NaN  \n",
      "3        NaN  NaN   12510.0       NaN       NaN  \n",
      "4        NaN  NaN    1634.0       NaN       NaN  \n",
      "\n",
      "[5 rows x 27 columns]\n"
     ]
    }
   ],
   "source": [
    "# inspect the dataframe to make sure it loaded like you thought\n",
    "print data_frame.head()"
   ]
  },
  {
   "cell_type": "markdown",
   "metadata": {},
   "source": [
    "## Isolate task sections\n",
    "Here I make a data frame for each part of the task (easier to work with)"
   ]
  },
  {
   "cell_type": "code",
   "execution_count": 36,
   "metadata": {
    "collapsed": false,
    "scrolled": false
   },
   "outputs": [],
   "source": [
    "\n",
    "# isolate the instruction sections (and only keep the variables you want)\n",
    "data_instructions = data_frame[data_frame.phase == 'INSTRUCTIONS']\n",
    "data_instructions = data_instructions[['action', 'phase', 'template', 'uniqueid', 'viewTime']]\n",
    "\n",
    "# isolate the exposure phase (and only keep the variables you want)\n",
    "data_production = data_frame[data_frame.phase == 'production']\n",
    "data_production = data_production[['phase', 'uniqueid', 'condition', 'counterbalance', 'n', 'verb', 'noun', 'det', 'test_number', 'type','user_input']]\n",
    "data_production = data_production.dropna()\n",
    "\n",
    "# isolate the rating phase (and only keep the variables you want)\n",
    "data_rating = data_frame[data_frame.phase == 'rating']\n",
    "data_rating = data_rating[['phase', 'uniqueid', 'condition', 'counterbalance','n', 'verb', 'noun', 'det', 'number', 'type', 'error','user_input']]\n",
    "data_rating = data_rating.dropna()\n",
    "\n"
   ]
  },
  {
   "cell_type": "markdown",
   "metadata": {},
   "source": [
    "## Helpful additional things\n",
    "You can inspect each one if you want to make sure they look OK."
   ]
  },
  {
   "cell_type": "code",
   "execution_count": 38,
   "metadata": {
    "collapsed": false
   },
   "outputs": [
    {
     "name": "stdout",
     "output_type": "stream",
     "text": [
      "      phase                                       uniqueid condition  \\\n",
      "214  rating  A2541C8MY0BYV3:39ZSFO5CA8XQL1UKLP312HRZXIRUJX         1   \n",
      "215  rating  A2541C8MY0BYV3:39ZSFO5CA8XQL1UKLP312HRZXIRUJX         1   \n",
      "216  rating  A2541C8MY0BYV3:39ZSFO5CA8XQL1UKLP312HRZXIRUJX         1   \n",
      "217  rating  A2541C8MY0BYV3:39ZSFO5CA8XQL1UKLP312HRZXIRUJX         1   \n",
      "218  rating  A2541C8MY0BYV3:39ZSFO5CA8XQL1UKLP312HRZXIRUJX         1   \n",
      "\n",
      "    counterbalance    n    verb        noun det number       type error  \\\n",
      "214              1  1.0  gentif     fumpogu  ka      5  incorrect    E3   \n",
      "215              1  2.0  gentif     rungmot  ka      3    correct     R   \n",
      "216              1  3.0  gentif  blergenfol  ka      5  incorrect   E14   \n",
      "217              1  4.0  gentif    pernisel  ka      5  incorrect    E9   \n",
      "218              1  5.0  gentif      melanu  ka      5  incorrect    E1   \n",
      "\n",
      "    user_input  \n",
      "214          4  \n",
      "215          4  \n",
      "216          4  \n",
      "217          3  \n",
      "218          5  \n"
     ]
    }
   ],
   "source": [
    "print data_rating.head()"
   ]
  },
  {
   "cell_type": "markdown",
   "metadata": {},
   "source": [
    "### Count how many trials people are doing\n",
    "Here I am making sure everyone is doing the number of trials I think they should."
   ]
  },
  {
   "cell_type": "code",
   "execution_count": 40,
   "metadata": {
    "collapsed": false
   },
   "outputs": [
    {
     "data": {
      "text/plain": [
       "A3CIUPLZ6614U2:34S6N1K2ZVKRB5C0OB8FZHF197GLHT    36\n",
       "A1A3YOE4YCYM4E:34X6J5FLPTZYT8N34GJWSGUAV42JQD    36\n",
       "A2DWPP1KKAY0HG:3XLBSAQ9Z4DEN5NSQ3DCGJ159CMZ7F    36\n",
       "A1O81SOPKHK5RZ:3WSELTNVR330KVCRRE0E4M2EQT5TAU    36\n",
       "A3MEXVF979S444:3C2NJ6JBKAIDKFC3H3LNP5DONBDN2C    36\n",
       "A2RVEG53L48BAE:3A0EX8ZRN8P1KRGD7YN97EEZN8VYBW    36\n",
       "A1XUZFDVKP95VC:35H6S234SA1XCRPY0514L1UEDYS565    36\n",
       "A1219SY7CR1UWP:3YW4XOSQKQMJQKEGV0XVYHVD487U1O    36\n",
       "AGDFBU9CK6Z9R:3ATTHHXXWAPM7U498CTOANB3GSLIXJ     36\n",
       "A1YM0IWPC72J7V:3IQ1VMJRYTLH0G3DT8VXDM12WHQ9AO    36\n",
       "A289D98Z4GAZ28:3WYP994K17SVEFZIB761WYS79BQ6YX    36\n",
       "AU849EHZNGV2Z:3HHRAGRYX8662KXE3R0FEHL7LYTO91     36\n",
       "AAM0Q3DCSSQ0A:3JZQSN0I3QBRBH7TIUNZJ4YGXAXGFY     36\n",
       "A36470UBRH28GO:3II4UPYCOJ8LQMNBUKXLPIZXQFEQD5    36\n",
       "A32QJF67JMJFKX:3MD9PLUKKIF3QQFF6AU1CGNV8KBZNV    36\n",
       "AK8ONB60Q4RJ5:3GGAI1SQEVZK0FJ52VVTO3XAUCFMCJ     36\n",
       "A6HR4PTSCMZ4L:3LBXNTKX0RWTWTB64INBXUC0W2DX9T     36\n",
       "A1A3TGZ7DKJWRW:3GGAI1SQEVZK0FJ52VVTO3XAWJHMC1    36\n",
       "A1CE2XPYCDRHVZ:358UUM7WRZ45LE11GMJZUGZ61VPR71    36\n",
       "A1K75ALN5NQIJM:308XBLVESI5SNQ4RT3VFZIL2KLGRBN    36\n",
       "A10DEO061A6L3O:30BXRYBRP4Y7MZOZSPFH8SWH6DEWHO    36\n",
       "A3SYKB6GWHMFFP:39LOEL67OS6H2QLIF1A9QISL61F38W    36\n",
       "A3AY0315YWWNXY:3QAVNHZ3EM5C1I4MI5YNIVSXU45AL4    36\n",
       "A2AAY4VT9L71SY:37WLF8U1WPR0UAA17S5ANQDWBSC6KP    35\n",
       "A2541C8MY0BYV3:39ZSFO5CA8XQL1UKLP312HRZXIRUJX    35\n",
       "A2S8RNEB8PLU0S:38YMOXR4MU0RPA4IW6ODB17RY246WA    35\n",
       "A2WAQLPXT615HQ:36ZN444YTRZZDLQH7L6SRAKA4OGOIK    35\n",
       "A1YZ0ETOCJO1B2:3018Q3ZVOIRN4GZZNPVJ471W23VARB    35\n",
       "A1ZRK6K5JUPJAV:3YW4XOSQKQMJQKEGV0XVYHVD4881UW    35\n",
       "A2C39KTRMOM1XZ:3FTOP5WARFPA5FI4NIPHDA3SI03J0E    35\n",
       "A2UX7ZJEGGU5:33LKR6A5KEL4Q7ZRVV7LTL9BMUMT1J      34\n",
       "A5EU1AQJNC7F2:3VFJCI1K4Z0OE7C29PNT0TCZYR6RGM     34\n",
       "AZVQ8TJ73ZGKM:3D4CH1LGEAUIA7GGF8N798C5UFKG9U     34\n",
       "ATKG4FI2S5MVL:3ZAZR5XV01JKZMIOHKLNW5TJBNZCZ8     34\n",
       "A2O5OJXCUFQ3FV:3WMINLGALB4JYEAG5S5OFC2A127CAL    33\n",
       "A154X03NKVZZL1:3DBQWDE4Y6Z5JCVQZMNLNCG09S55NC    32\n",
       "Name: uniqueid, dtype: int64"
      ]
     },
     "execution_count": 40,
     "metadata": {},
     "output_type": "execute_result"
    }
   ],
   "source": [
    "#make sure every subject does all 18 of the ratings.\n",
    "data_rating.uniqueid.value_counts()"
   ]
  },
  {
   "cell_type": "markdown",
   "metadata": {},
   "source": [
    "## Extract subject input\n"
   ]
  },
  {
   "cell_type": "code",
   "execution_count": 41,
   "metadata": {
    "collapsed": false
   },
   "outputs": [
    {
     "name": "stdout",
     "output_type": "stream",
     "text": [
      "200     gentif daggin ka\n",
      "201    gentif bleggin ka\n",
      "202        gentif sep mo\n",
      "203       gentif norg ka\n",
      "204       gentif norg pa\n",
      "Name: user_input, dtype: object\n"
     ]
    }
   ],
   "source": [
    "# get what noun and determiner they said (input column)\n",
    "print data_production['user_input'].head()\n",
    "\n",
    "# this splits it into individual words\n",
    "splits = data_production['user_input'].str.split()\n",
    "data_production['det_prod'] = splits.str[2]\n",
    "data_production['noun-prod'] = splits.str[1]\n",
    "\n",
    "\n"
   ]
  },
  {
   "cell_type": "markdown",
   "metadata": {},
   "source": [
    "## Save to CSV"
   ]
  },
  {
   "cell_type": "code",
   "execution_count": 50,
   "metadata": {
    "collapsed": true
   },
   "outputs": [],
   "source": [
    "# for example:\n",
    "data_rating.to_csv(\"/Users/kathrynschuler/Desktop/rating.csv\")\n",
    "data_production.to_csv(\"/Users/kathrynschuler/Desktop/production.csv\")"
   ]
  }
 ],
 "metadata": {
  "kernelspec": {
   "display_name": "Python 2",
   "language": "python",
   "name": "python2"
  },
  "language_info": {
   "codemirror_mode": {
    "name": "ipython",
    "version": 2
   },
   "file_extension": ".py",
   "mimetype": "text/x-python",
   "name": "python",
   "nbconvert_exporter": "python",
   "pygments_lexer": "ipython2",
   "version": "2.7.11"
  }
 },
 "nbformat": 4,
 "nbformat_minor": 0
}
